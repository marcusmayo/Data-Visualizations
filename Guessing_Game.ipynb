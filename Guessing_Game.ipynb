{
  "nbformat": 4,
  "nbformat_minor": 0,
  "metadata": {
    "colab": {
      "name": "Guessing_Game",
      "provenance": [],
      "authorship_tag": "ABX9TyMOSAbrBxeIEEtAfDRLcbLT",
      "include_colab_link": true
    },
    "kernelspec": {
      "name": "python3",
      "display_name": "Python 3"
    }
  },
  "cells": [
    {
      "cell_type": "markdown",
      "metadata": {
        "id": "view-in-github",
        "colab_type": "text"
      },
      "source": [
        "<a href=\"https://colab.research.google.com/github/marcusmayo/Data_Visualizations/blob/master/Guessing_Game.ipynb\" target=\"_parent\"><img src=\"https://colab.research.google.com/assets/colab-badge.svg\" alt=\"Open In Colab\"/></a>"
      ]
    },
    {
      "cell_type": "code",
      "metadata": {
        "id": "3qafk87D01Xt",
        "colab_type": "code",
        "colab": {
          "base_uri": "https://localhost:8080/",
          "height": 54
        },
        "outputId": "a876b0d0-0b4c-40b1-ccf5-6514aa497184"
      },
      "source": [
        "#Acesses pygames library\n",
        "!pip install pygame"
      ],
      "execution_count": 1,
      "outputs": [
        {
          "output_type": "stream",
          "text": [
            "Requirement already satisfied: pygame in /usr/local/lib/python3.6/dist-packages (1.9.6)\n"
          ],
          "name": "stdout"
        }
      ]
    },
    {
      "cell_type": "code",
      "metadata": {
        "id": "DgEtKVoo1Xsm",
        "colab_type": "code",
        "colab": {
          "base_uri": "https://localhost:8080/",
          "height": 68
        },
        "outputId": "05b7f449-601e-4dba-dd5f-6726bafb7370"
      },
      "source": [
        "print('Welcome to the Marcus Mayo GUESSING GAME!')\n",
        "print('You have 6 attempts at guesssing letter in a word!')\n",
        "print('After the 6 tries, YOU LOSE!')"
      ],
      "execution_count": 2,
      "outputs": [
        {
          "output_type": "stream",
          "text": [
            "Welcome to the Marcus Mayo GUESSING GAME!\n",
            "You have 6 attempts at guesssing letter in a word!\n",
            "After the 6 tries, YOU LOSE!\n"
          ],
          "name": "stdout"
        }
      ]
    },
    {
      "cell_type": "code",
      "metadata": {
        "id": "LZFxb8Cp1w4o",
        "colab_type": "code",
        "colab": {
          "base_uri": "https://localhost:8080/",
          "height": 714
        },
        "outputId": "1256b37c-eadd-4af9-8562-d8a4db369bad"
      },
      "source": [
        "#This is a library algorithm for our guessing game\n",
        "import random\n",
        "def get_guess():\n",
        "\n",
        "    #Set the dashes to the length of the hidden word and set the guesses\n",
        "    #We will set 5\n",
        "    dashes =\"-\" * len(secret_word)\n",
        "    guesses_left = 5\n",
        "\n",
        "    #This will loop as BOTH conditions are true:\n",
        "    #1. The number of guesses left is greater than -1\n",
        "    #2. The dash string does NOT equal the secret word\n",
        "    while guesses_left > -1 and not dashes == secret_word:\n",
        "\n",
        "      #Print the amount of dashea and guesses left\n",
        "      print(dashes)\n",
        "      print(str(guesses_left))\n",
        "\n",
        "      #Ask the user for input\n",
        "      guess = input(\"Guess:\")\n",
        "\n",
        "      #Condition that will print out a message according to wrong guesses\n",
        "      if len(guess) != 1:\n",
        "        print(\"Your guess must have exactly one character!\")\n",
        "\n",
        "        #Create an elif finction to setup our guidelines for the game\n",
        "      elif guess in secret_word:\n",
        "        print(\"That letter is in the secret word!\")\n",
        "        dashes = update_dashes(secret_word, dashes, guess)\n",
        "\n",
        "        #If the guess is worng then we display a message and subtract \n",
        "        #the amount of guesses the user has by 1\n",
        "      else:\n",
        "        print(\"That letter is not in the secret word!\")\n",
        "        guesses_left -= 1\n",
        "\n",
        "    if guesses_left < 0:\n",
        "      print(\"You lose. The word was: \" + str(secret_word))\n",
        "\n",
        "    #If the dash string equals the secret word in the end then the\n",
        "    #user wins\n",
        "    else:\n",
        "      print(\"Congrats! You win. The word was: \" + str(secret_word))\n",
        "\n",
        "#This function updates the string of dashes by replacing the dashes\n",
        "#with words that match up wioth tht hidden word if the player is correct\n",
        "\n",
        "def update_dashes(secret, cur_dash, rec_guess):\n",
        "  result = \"\"\n",
        "\n",
        "  for i in range(len(secret)):\n",
        "    if secret[i] == rec_guess:\n",
        "      result = result + rec_guess #Adds guess to string if guess is correct\n",
        "\n",
        "    else:\n",
        "      #Add the dash at index i to result if it doesn't match the guess\n",
        "      result = result + cur_dash[i]\n",
        "\n",
        "  return result\n",
        "\n",
        "words = [\"Rock\", \"Paper\", \"Scissor\"]\n",
        "\n",
        "secret_word = random.choice(words)\n",
        "get_guess()"
      ],
      "execution_count": 4,
      "outputs": [
        {
          "output_type": "stream",
          "text": [
            "-----\n",
            "5\n",
            "Guess:w\n",
            "That letter is not in the secret word!\n",
            "-----\n",
            "4\n",
            "Guess:r\n",
            "That letter is in the secret word!\n",
            "----r\n",
            "4\n",
            "Guess:k\n",
            "That letter is not in the secret word!\n",
            "----r\n",
            "3\n",
            "Guess:f\n",
            "That letter is not in the secret word!\n",
            "----r\n",
            "2\n",
            "Guess:q\n",
            "That letter is not in the secret word!\n",
            "----r\n",
            "1\n",
            "Guess:p\n",
            "That letter is in the secret word!\n",
            "--p-r\n",
            "1\n",
            "Guess:a\n",
            "That letter is in the secret word!\n",
            "-ap-r\n",
            "1\n",
            "Guess:p\n",
            "That letter is in the secret word!\n",
            "-ap-r\n",
            "1\n",
            "Guess:P\n",
            "That letter is in the secret word!\n",
            "Pap-r\n",
            "1\n",
            "Guess:e\n",
            "That letter is in the secret word!\n",
            "Congrats! You win. The word was: Paper\n"
          ],
          "name": "stdout"
        }
      ]
    }
  ]
}