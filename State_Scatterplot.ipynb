{
  "nbformat": 4,
  "nbformat_minor": 0,
  "metadata": {
    "colab": {
      "name": "State_Scatterplot.ipynb",
      "provenance": [],
      "authorship_tag": "ABX9TyNQcWb6oABww/FVp/b4mB6F",
      "include_colab_link": true
    },
    "kernelspec": {
      "name": "python3",
      "display_name": "Python 3"
    }
  },
  "cells": [
    {
      "cell_type": "markdown",
      "metadata": {
        "id": "view-in-github",
        "colab_type": "text"
      },
      "source": [
        "<a href=\"https://colab.research.google.com/github/marcusmayo/Data-Visualizations/blob/master/State_Scatterplot.ipynb\" target=\"_parent\"><img src=\"https://colab.research.google.com/assets/colab-badge.svg\" alt=\"Open In Colab\"/></a>"
      ]
    },
    {
      "cell_type": "code",
      "metadata": {
        "id": "cFKE3n52ARk5",
        "colab_type": "code",
        "colab": {}
      },
      "source": [
        "import numpy as np #Numpy provides fast mathematical function processing\n",
        "import pandas as pd #Pandas is used for easy indexing and data collection tools\n",
        "import matplotlib as mpl #Machine learning libraries\n",
        "import matplotlib.pyplot as plt #\n",
        "%matplotlib inline"
      ],
      "execution_count": 0,
      "outputs": []
    },
    {
      "cell_type": "code",
      "metadata": {
        "id": "jJ11TgcPDIQd",
        "colab_type": "code",
        "colab": {}
      },
      "source": [
        "#My data is called Counties so I named \"Counties\" my dataframe \n",
        "Counties=pd.read_csv(\"https://raw.githubusercontent.com/marcusmayo/Data-Sources/master/us-counties.csv\", encoding='latin1')"
      ],
      "execution_count": 0,
      "outputs": []
    },
    {
      "cell_type": "code",
      "metadata": {
        "id": "iCNh_-zhDnco",
        "colab_type": "code",
        "outputId": "5351725d-e0c9-4a57-d2f4-8d45d06d93e3",
        "colab": {
          "base_uri": "https://localhost:8080/",
          "height": 204
        }
      },
      "source": [
        "#This function previews your data\n",
        "Counties.head()"
      ],
      "execution_count": 20,
      "outputs": [
        {
          "output_type": "execute_result",
          "data": {
            "text/html": [
              "<div>\n",
              "<style scoped>\n",
              "    .dataframe tbody tr th:only-of-type {\n",
              "        vertical-align: middle;\n",
              "    }\n",
              "\n",
              "    .dataframe tbody tr th {\n",
              "        vertical-align: top;\n",
              "    }\n",
              "\n",
              "    .dataframe thead th {\n",
              "        text-align: right;\n",
              "    }\n",
              "</style>\n",
              "<table border=\"1\" class=\"dataframe\">\n",
              "  <thead>\n",
              "    <tr style=\"text-align: right;\">\n",
              "      <th></th>\n",
              "      <th>date</th>\n",
              "      <th>county</th>\n",
              "      <th>state</th>\n",
              "      <th>fips</th>\n",
              "      <th>cases</th>\n",
              "      <th>deaths</th>\n",
              "    </tr>\n",
              "  </thead>\n",
              "  <tbody>\n",
              "    <tr>\n",
              "      <th>0</th>\n",
              "      <td>2020-01-21</td>\n",
              "      <td>Snohomish</td>\n",
              "      <td>Washington</td>\n",
              "      <td>53061.0</td>\n",
              "      <td>1</td>\n",
              "      <td>0</td>\n",
              "    </tr>\n",
              "    <tr>\n",
              "      <th>1</th>\n",
              "      <td>2020-01-22</td>\n",
              "      <td>Snohomish</td>\n",
              "      <td>Washington</td>\n",
              "      <td>53061.0</td>\n",
              "      <td>1</td>\n",
              "      <td>0</td>\n",
              "    </tr>\n",
              "    <tr>\n",
              "      <th>2</th>\n",
              "      <td>2020-01-23</td>\n",
              "      <td>Snohomish</td>\n",
              "      <td>Washington</td>\n",
              "      <td>53061.0</td>\n",
              "      <td>1</td>\n",
              "      <td>0</td>\n",
              "    </tr>\n",
              "    <tr>\n",
              "      <th>3</th>\n",
              "      <td>2020-01-24</td>\n",
              "      <td>Cook</td>\n",
              "      <td>Illinois</td>\n",
              "      <td>17031.0</td>\n",
              "      <td>1</td>\n",
              "      <td>0</td>\n",
              "    </tr>\n",
              "    <tr>\n",
              "      <th>4</th>\n",
              "      <td>2020-01-24</td>\n",
              "      <td>Snohomish</td>\n",
              "      <td>Washington</td>\n",
              "      <td>53061.0</td>\n",
              "      <td>1</td>\n",
              "      <td>0</td>\n",
              "    </tr>\n",
              "  </tbody>\n",
              "</table>\n",
              "</div>"
            ],
            "text/plain": [
              "         date     county       state     fips  cases  deaths\n",
              "0  2020-01-21  Snohomish  Washington  53061.0      1       0\n",
              "1  2020-01-22  Snohomish  Washington  53061.0      1       0\n",
              "2  2020-01-23  Snohomish  Washington  53061.0      1       0\n",
              "3  2020-01-24       Cook    Illinois  17031.0      1       0\n",
              "4  2020-01-24  Snohomish  Washington  53061.0      1       0"
            ]
          },
          "metadata": {
            "tags": []
          },
          "execution_count": 20
        }
      ]
    },
    {
      "cell_type": "code",
      "metadata": {
        "id": "-geHvA-qDsvi",
        "colab_type": "code",
        "outputId": "0abe05cf-80f8-4604-eb9b-f6c9e0ebeb03",
        "colab": {
          "base_uri": "https://localhost:8080/",
          "height": 34
        }
      },
      "source": [
        "#Gives a list of Column names\n",
        "Counties.columns.values"
      ],
      "execution_count": 21,
      "outputs": [
        {
          "output_type": "execute_result",
          "data": {
            "text/plain": [
              "array(['date', 'county', 'state', 'fips', 'cases', 'deaths'], dtype=object)"
            ]
          },
          "metadata": {
            "tags": []
          },
          "execution_count": 21
        }
      ]
    },
    {
      "cell_type": "code",
      "metadata": {
        "id": "Bd1T-HrQDy84",
        "colab_type": "code",
        "outputId": "06594d1f-15f2-42dd-c8b2-d8616a8a28e7",
        "colab": {
          "base_uri": "https://localhost:8080/",
          "height": 34
        }
      },
      "source": [
        "#Gives sixe of data you have uploaded\n",
        "Counties.shape"
      ],
      "execution_count": 22,
      "outputs": [
        {
          "output_type": "execute_result",
          "data": {
            "text/plain": [
              "(33251, 6)"
            ]
          },
          "metadata": {
            "tags": []
          },
          "execution_count": 22
        }
      ]
    },
    {
      "cell_type": "code",
      "metadata": {
        "id": "FHRkS1kPD33U",
        "colab_type": "code",
        "outputId": "989f3632-7a27-4d19-d7e5-48b35aabe410",
        "colab": {
          "base_uri": "https://localhost:8080/",
          "height": 419
        }
      },
      "source": [
        "#Presents all of the data\n",
        "Counties"
      ],
      "execution_count": 23,
      "outputs": [
        {
          "output_type": "execute_result",
          "data": {
            "text/html": [
              "<div>\n",
              "<style scoped>\n",
              "    .dataframe tbody tr th:only-of-type {\n",
              "        vertical-align: middle;\n",
              "    }\n",
              "\n",
              "    .dataframe tbody tr th {\n",
              "        vertical-align: top;\n",
              "    }\n",
              "\n",
              "    .dataframe thead th {\n",
              "        text-align: right;\n",
              "    }\n",
              "</style>\n",
              "<table border=\"1\" class=\"dataframe\">\n",
              "  <thead>\n",
              "    <tr style=\"text-align: right;\">\n",
              "      <th></th>\n",
              "      <th>date</th>\n",
              "      <th>county</th>\n",
              "      <th>state</th>\n",
              "      <th>fips</th>\n",
              "      <th>cases</th>\n",
              "      <th>deaths</th>\n",
              "    </tr>\n",
              "  </thead>\n",
              "  <tbody>\n",
              "    <tr>\n",
              "      <th>0</th>\n",
              "      <td>2020-01-21</td>\n",
              "      <td>Snohomish</td>\n",
              "      <td>Washington</td>\n",
              "      <td>53061.0</td>\n",
              "      <td>1</td>\n",
              "      <td>0</td>\n",
              "    </tr>\n",
              "    <tr>\n",
              "      <th>1</th>\n",
              "      <td>2020-01-22</td>\n",
              "      <td>Snohomish</td>\n",
              "      <td>Washington</td>\n",
              "      <td>53061.0</td>\n",
              "      <td>1</td>\n",
              "      <td>0</td>\n",
              "    </tr>\n",
              "    <tr>\n",
              "      <th>2</th>\n",
              "      <td>2020-01-23</td>\n",
              "      <td>Snohomish</td>\n",
              "      <td>Washington</td>\n",
              "      <td>53061.0</td>\n",
              "      <td>1</td>\n",
              "      <td>0</td>\n",
              "    </tr>\n",
              "    <tr>\n",
              "      <th>3</th>\n",
              "      <td>2020-01-24</td>\n",
              "      <td>Cook</td>\n",
              "      <td>Illinois</td>\n",
              "      <td>17031.0</td>\n",
              "      <td>1</td>\n",
              "      <td>0</td>\n",
              "    </tr>\n",
              "    <tr>\n",
              "      <th>4</th>\n",
              "      <td>2020-01-24</td>\n",
              "      <td>Snohomish</td>\n",
              "      <td>Washington</td>\n",
              "      <td>53061.0</td>\n",
              "      <td>1</td>\n",
              "      <td>0</td>\n",
              "    </tr>\n",
              "    <tr>\n",
              "      <th>...</th>\n",
              "      <td>...</td>\n",
              "      <td>...</td>\n",
              "      <td>...</td>\n",
              "      <td>...</td>\n",
              "      <td>...</td>\n",
              "      <td>...</td>\n",
              "    </tr>\n",
              "    <tr>\n",
              "      <th>33246</th>\n",
              "      <td>2020-04-04</td>\n",
              "      <td>Sublette</td>\n",
              "      <td>Wyoming</td>\n",
              "      <td>56035.0</td>\n",
              "      <td>1</td>\n",
              "      <td>0</td>\n",
              "    </tr>\n",
              "    <tr>\n",
              "      <th>33247</th>\n",
              "      <td>2020-04-04</td>\n",
              "      <td>Sweetwater</td>\n",
              "      <td>Wyoming</td>\n",
              "      <td>56037.0</td>\n",
              "      <td>4</td>\n",
              "      <td>0</td>\n",
              "    </tr>\n",
              "    <tr>\n",
              "      <th>33248</th>\n",
              "      <td>2020-04-04</td>\n",
              "      <td>Teton</td>\n",
              "      <td>Wyoming</td>\n",
              "      <td>56039.0</td>\n",
              "      <td>36</td>\n",
              "      <td>0</td>\n",
              "    </tr>\n",
              "    <tr>\n",
              "      <th>33249</th>\n",
              "      <td>2020-04-04</td>\n",
              "      <td>Uinta</td>\n",
              "      <td>Wyoming</td>\n",
              "      <td>56041.0</td>\n",
              "      <td>2</td>\n",
              "      <td>0</td>\n",
              "    </tr>\n",
              "    <tr>\n",
              "      <th>33250</th>\n",
              "      <td>2020-04-04</td>\n",
              "      <td>Washakie</td>\n",
              "      <td>Wyoming</td>\n",
              "      <td>56043.0</td>\n",
              "      <td>2</td>\n",
              "      <td>0</td>\n",
              "    </tr>\n",
              "  </tbody>\n",
              "</table>\n",
              "<p>33251 rows × 6 columns</p>\n",
              "</div>"
            ],
            "text/plain": [
              "             date      county       state     fips  cases  deaths\n",
              "0      2020-01-21   Snohomish  Washington  53061.0      1       0\n",
              "1      2020-01-22   Snohomish  Washington  53061.0      1       0\n",
              "2      2020-01-23   Snohomish  Washington  53061.0      1       0\n",
              "3      2020-01-24        Cook    Illinois  17031.0      1       0\n",
              "4      2020-01-24   Snohomish  Washington  53061.0      1       0\n",
              "...           ...         ...         ...      ...    ...     ...\n",
              "33246  2020-04-04    Sublette     Wyoming  56035.0      1       0\n",
              "33247  2020-04-04  Sweetwater     Wyoming  56037.0      4       0\n",
              "33248  2020-04-04       Teton     Wyoming  56039.0     36       0\n",
              "33249  2020-04-04       Uinta     Wyoming  56041.0      2       0\n",
              "33250  2020-04-04    Washakie     Wyoming  56043.0      2       0\n",
              "\n",
              "[33251 rows x 6 columns]"
            ]
          },
          "metadata": {
            "tags": []
          },
          "execution_count": 23
        }
      ]
    },
    {
      "cell_type": "code",
      "metadata": {
        "id": "aeJKKLCtEEeE",
        "colab_type": "code",
        "outputId": "c96cebfa-1621-4221-eab4-e79d6db3e446",
        "colab": {
          "base_uri": "https://localhost:8080/",
          "height": 34
        }
      },
      "source": [
        "#Here we are checking to see whether our dataframe contains any null values\n",
        "Counties.isnull().values.any()"
      ],
      "execution_count": 24,
      "outputs": [
        {
          "output_type": "execute_result",
          "data": {
            "text/plain": [
              "True"
            ]
          },
          "metadata": {
            "tags": []
          },
          "execution_count": 24
        }
      ]
    },
    {
      "cell_type": "code",
      "metadata": {
        "id": "xhfhlsYzEtnZ",
        "colab_type": "code",
        "outputId": "957ff190-57f4-4d19-db8f-6b580bc3e33c",
        "colab": {
          "base_uri": "https://localhost:8080/",
          "height": 419
        }
      },
      "source": [
        "#This code drops all of the na values from the rows\n",
        "Counties.dropna(axis=0)"
      ],
      "execution_count": 25,
      "outputs": [
        {
          "output_type": "execute_result",
          "data": {
            "text/html": [
              "<div>\n",
              "<style scoped>\n",
              "    .dataframe tbody tr th:only-of-type {\n",
              "        vertical-align: middle;\n",
              "    }\n",
              "\n",
              "    .dataframe tbody tr th {\n",
              "        vertical-align: top;\n",
              "    }\n",
              "\n",
              "    .dataframe thead th {\n",
              "        text-align: right;\n",
              "    }\n",
              "</style>\n",
              "<table border=\"1\" class=\"dataframe\">\n",
              "  <thead>\n",
              "    <tr style=\"text-align: right;\">\n",
              "      <th></th>\n",
              "      <th>date</th>\n",
              "      <th>county</th>\n",
              "      <th>state</th>\n",
              "      <th>fips</th>\n",
              "      <th>cases</th>\n",
              "      <th>deaths</th>\n",
              "    </tr>\n",
              "  </thead>\n",
              "  <tbody>\n",
              "    <tr>\n",
              "      <th>0</th>\n",
              "      <td>2020-01-21</td>\n",
              "      <td>Snohomish</td>\n",
              "      <td>Washington</td>\n",
              "      <td>53061.0</td>\n",
              "      <td>1</td>\n",
              "      <td>0</td>\n",
              "    </tr>\n",
              "    <tr>\n",
              "      <th>1</th>\n",
              "      <td>2020-01-22</td>\n",
              "      <td>Snohomish</td>\n",
              "      <td>Washington</td>\n",
              "      <td>53061.0</td>\n",
              "      <td>1</td>\n",
              "      <td>0</td>\n",
              "    </tr>\n",
              "    <tr>\n",
              "      <th>2</th>\n",
              "      <td>2020-01-23</td>\n",
              "      <td>Snohomish</td>\n",
              "      <td>Washington</td>\n",
              "      <td>53061.0</td>\n",
              "      <td>1</td>\n",
              "      <td>0</td>\n",
              "    </tr>\n",
              "    <tr>\n",
              "      <th>3</th>\n",
              "      <td>2020-01-24</td>\n",
              "      <td>Cook</td>\n",
              "      <td>Illinois</td>\n",
              "      <td>17031.0</td>\n",
              "      <td>1</td>\n",
              "      <td>0</td>\n",
              "    </tr>\n",
              "    <tr>\n",
              "      <th>4</th>\n",
              "      <td>2020-01-24</td>\n",
              "      <td>Snohomish</td>\n",
              "      <td>Washington</td>\n",
              "      <td>53061.0</td>\n",
              "      <td>1</td>\n",
              "      <td>0</td>\n",
              "    </tr>\n",
              "    <tr>\n",
              "      <th>...</th>\n",
              "      <td>...</td>\n",
              "      <td>...</td>\n",
              "      <td>...</td>\n",
              "      <td>...</td>\n",
              "      <td>...</td>\n",
              "      <td>...</td>\n",
              "    </tr>\n",
              "    <tr>\n",
              "      <th>33246</th>\n",
              "      <td>2020-04-04</td>\n",
              "      <td>Sublette</td>\n",
              "      <td>Wyoming</td>\n",
              "      <td>56035.0</td>\n",
              "      <td>1</td>\n",
              "      <td>0</td>\n",
              "    </tr>\n",
              "    <tr>\n",
              "      <th>33247</th>\n",
              "      <td>2020-04-04</td>\n",
              "      <td>Sweetwater</td>\n",
              "      <td>Wyoming</td>\n",
              "      <td>56037.0</td>\n",
              "      <td>4</td>\n",
              "      <td>0</td>\n",
              "    </tr>\n",
              "    <tr>\n",
              "      <th>33248</th>\n",
              "      <td>2020-04-04</td>\n",
              "      <td>Teton</td>\n",
              "      <td>Wyoming</td>\n",
              "      <td>56039.0</td>\n",
              "      <td>36</td>\n",
              "      <td>0</td>\n",
              "    </tr>\n",
              "    <tr>\n",
              "      <th>33249</th>\n",
              "      <td>2020-04-04</td>\n",
              "      <td>Uinta</td>\n",
              "      <td>Wyoming</td>\n",
              "      <td>56041.0</td>\n",
              "      <td>2</td>\n",
              "      <td>0</td>\n",
              "    </tr>\n",
              "    <tr>\n",
              "      <th>33250</th>\n",
              "      <td>2020-04-04</td>\n",
              "      <td>Washakie</td>\n",
              "      <td>Wyoming</td>\n",
              "      <td>56043.0</td>\n",
              "      <td>2</td>\n",
              "      <td>0</td>\n",
              "    </tr>\n",
              "  </tbody>\n",
              "</table>\n",
              "<p>32764 rows × 6 columns</p>\n",
              "</div>"
            ],
            "text/plain": [
              "             date      county       state     fips  cases  deaths\n",
              "0      2020-01-21   Snohomish  Washington  53061.0      1       0\n",
              "1      2020-01-22   Snohomish  Washington  53061.0      1       0\n",
              "2      2020-01-23   Snohomish  Washington  53061.0      1       0\n",
              "3      2020-01-24        Cook    Illinois  17031.0      1       0\n",
              "4      2020-01-24   Snohomish  Washington  53061.0      1       0\n",
              "...           ...         ...         ...      ...    ...     ...\n",
              "33246  2020-04-04    Sublette     Wyoming  56035.0      1       0\n",
              "33247  2020-04-04  Sweetwater     Wyoming  56037.0      4       0\n",
              "33248  2020-04-04       Teton     Wyoming  56039.0     36       0\n",
              "33249  2020-04-04       Uinta     Wyoming  56041.0      2       0\n",
              "33250  2020-04-04    Washakie     Wyoming  56043.0      2       0\n",
              "\n",
              "[32764 rows x 6 columns]"
            ]
          },
          "metadata": {
            "tags": []
          },
          "execution_count": 25
        }
      ]
    },
    {
      "cell_type": "code",
      "metadata": {
        "id": "5M3rCtp_E0CF",
        "colab_type": "code",
        "outputId": "a3bef9c5-ff03-42dc-f137-0369219ab6e0",
        "colab": {
          "base_uri": "https://localhost:8080/",
          "height": 419
        }
      },
      "source": [
        "#This code drops all of the na values from the columns\n",
        "Counties.dropna(axis=1)"
      ],
      "execution_count": 26,
      "outputs": [
        {
          "output_type": "execute_result",
          "data": {
            "text/html": [
              "<div>\n",
              "<style scoped>\n",
              "    .dataframe tbody tr th:only-of-type {\n",
              "        vertical-align: middle;\n",
              "    }\n",
              "\n",
              "    .dataframe tbody tr th {\n",
              "        vertical-align: top;\n",
              "    }\n",
              "\n",
              "    .dataframe thead th {\n",
              "        text-align: right;\n",
              "    }\n",
              "</style>\n",
              "<table border=\"1\" class=\"dataframe\">\n",
              "  <thead>\n",
              "    <tr style=\"text-align: right;\">\n",
              "      <th></th>\n",
              "      <th>date</th>\n",
              "      <th>county</th>\n",
              "      <th>state</th>\n",
              "      <th>cases</th>\n",
              "      <th>deaths</th>\n",
              "    </tr>\n",
              "  </thead>\n",
              "  <tbody>\n",
              "    <tr>\n",
              "      <th>0</th>\n",
              "      <td>2020-01-21</td>\n",
              "      <td>Snohomish</td>\n",
              "      <td>Washington</td>\n",
              "      <td>1</td>\n",
              "      <td>0</td>\n",
              "    </tr>\n",
              "    <tr>\n",
              "      <th>1</th>\n",
              "      <td>2020-01-22</td>\n",
              "      <td>Snohomish</td>\n",
              "      <td>Washington</td>\n",
              "      <td>1</td>\n",
              "      <td>0</td>\n",
              "    </tr>\n",
              "    <tr>\n",
              "      <th>2</th>\n",
              "      <td>2020-01-23</td>\n",
              "      <td>Snohomish</td>\n",
              "      <td>Washington</td>\n",
              "      <td>1</td>\n",
              "      <td>0</td>\n",
              "    </tr>\n",
              "    <tr>\n",
              "      <th>3</th>\n",
              "      <td>2020-01-24</td>\n",
              "      <td>Cook</td>\n",
              "      <td>Illinois</td>\n",
              "      <td>1</td>\n",
              "      <td>0</td>\n",
              "    </tr>\n",
              "    <tr>\n",
              "      <th>4</th>\n",
              "      <td>2020-01-24</td>\n",
              "      <td>Snohomish</td>\n",
              "      <td>Washington</td>\n",
              "      <td>1</td>\n",
              "      <td>0</td>\n",
              "    </tr>\n",
              "    <tr>\n",
              "      <th>...</th>\n",
              "      <td>...</td>\n",
              "      <td>...</td>\n",
              "      <td>...</td>\n",
              "      <td>...</td>\n",
              "      <td>...</td>\n",
              "    </tr>\n",
              "    <tr>\n",
              "      <th>33246</th>\n",
              "      <td>2020-04-04</td>\n",
              "      <td>Sublette</td>\n",
              "      <td>Wyoming</td>\n",
              "      <td>1</td>\n",
              "      <td>0</td>\n",
              "    </tr>\n",
              "    <tr>\n",
              "      <th>33247</th>\n",
              "      <td>2020-04-04</td>\n",
              "      <td>Sweetwater</td>\n",
              "      <td>Wyoming</td>\n",
              "      <td>4</td>\n",
              "      <td>0</td>\n",
              "    </tr>\n",
              "    <tr>\n",
              "      <th>33248</th>\n",
              "      <td>2020-04-04</td>\n",
              "      <td>Teton</td>\n",
              "      <td>Wyoming</td>\n",
              "      <td>36</td>\n",
              "      <td>0</td>\n",
              "    </tr>\n",
              "    <tr>\n",
              "      <th>33249</th>\n",
              "      <td>2020-04-04</td>\n",
              "      <td>Uinta</td>\n",
              "      <td>Wyoming</td>\n",
              "      <td>2</td>\n",
              "      <td>0</td>\n",
              "    </tr>\n",
              "    <tr>\n",
              "      <th>33250</th>\n",
              "      <td>2020-04-04</td>\n",
              "      <td>Washakie</td>\n",
              "      <td>Wyoming</td>\n",
              "      <td>2</td>\n",
              "      <td>0</td>\n",
              "    </tr>\n",
              "  </tbody>\n",
              "</table>\n",
              "<p>33251 rows × 5 columns</p>\n",
              "</div>"
            ],
            "text/plain": [
              "             date      county       state  cases  deaths\n",
              "0      2020-01-21   Snohomish  Washington      1       0\n",
              "1      2020-01-22   Snohomish  Washington      1       0\n",
              "2      2020-01-23   Snohomish  Washington      1       0\n",
              "3      2020-01-24        Cook    Illinois      1       0\n",
              "4      2020-01-24   Snohomish  Washington      1       0\n",
              "...           ...         ...         ...    ...     ...\n",
              "33246  2020-04-04    Sublette     Wyoming      1       0\n",
              "33247  2020-04-04  Sweetwater     Wyoming      4       0\n",
              "33248  2020-04-04       Teton     Wyoming     36       0\n",
              "33249  2020-04-04       Uinta     Wyoming      2       0\n",
              "33250  2020-04-04    Washakie     Wyoming      2       0\n",
              "\n",
              "[33251 rows x 5 columns]"
            ]
          },
          "metadata": {
            "tags": []
          },
          "execution_count": 26
        }
      ]
    },
    {
      "cell_type": "code",
      "metadata": {
        "colab_type": "code",
        "outputId": "fb6221af-e3ed-480b-ce12-962d847751fe",
        "id": "ybCL5YvaFPax",
        "colab": {
          "base_uri": "https://localhost:8080/",
          "height": 34
        }
      },
      "source": [
        "#Here we are checking to see whether our dataframe contains any null values\n",
        "Counties.isnull().values.any()"
      ],
      "execution_count": 27,
      "outputs": [
        {
          "output_type": "execute_result",
          "data": {
            "text/plain": [
              "True"
            ]
          },
          "metadata": {
            "tags": []
          },
          "execution_count": 27
        }
      ]
    },
    {
      "cell_type": "code",
      "metadata": {
        "id": "Ox1VyhRnFZYq",
        "colab_type": "code",
        "colab": {}
      },
      "source": [
        "#This code drops all of the na values from the rows\n",
        "Counties2=Counties.dropna(axis=1)"
      ],
      "execution_count": 0,
      "outputs": []
    },
    {
      "cell_type": "code",
      "metadata": {
        "id": "k5EPHikTFrJb",
        "colab_type": "code",
        "outputId": "9be2f430-e339-4e64-fbfc-04c3261fa6d2",
        "colab": {
          "base_uri": "https://localhost:8080/",
          "height": 419
        }
      },
      "source": [
        "#This code fills all of the na values in the rows\n",
        "Counties2.fillna(0)"
      ],
      "execution_count": 29,
      "outputs": [
        {
          "output_type": "execute_result",
          "data": {
            "text/html": [
              "<div>\n",
              "<style scoped>\n",
              "    .dataframe tbody tr th:only-of-type {\n",
              "        vertical-align: middle;\n",
              "    }\n",
              "\n",
              "    .dataframe tbody tr th {\n",
              "        vertical-align: top;\n",
              "    }\n",
              "\n",
              "    .dataframe thead th {\n",
              "        text-align: right;\n",
              "    }\n",
              "</style>\n",
              "<table border=\"1\" class=\"dataframe\">\n",
              "  <thead>\n",
              "    <tr style=\"text-align: right;\">\n",
              "      <th></th>\n",
              "      <th>date</th>\n",
              "      <th>county</th>\n",
              "      <th>state</th>\n",
              "      <th>cases</th>\n",
              "      <th>deaths</th>\n",
              "    </tr>\n",
              "  </thead>\n",
              "  <tbody>\n",
              "    <tr>\n",
              "      <th>0</th>\n",
              "      <td>2020-01-21</td>\n",
              "      <td>Snohomish</td>\n",
              "      <td>Washington</td>\n",
              "      <td>1</td>\n",
              "      <td>0</td>\n",
              "    </tr>\n",
              "    <tr>\n",
              "      <th>1</th>\n",
              "      <td>2020-01-22</td>\n",
              "      <td>Snohomish</td>\n",
              "      <td>Washington</td>\n",
              "      <td>1</td>\n",
              "      <td>0</td>\n",
              "    </tr>\n",
              "    <tr>\n",
              "      <th>2</th>\n",
              "      <td>2020-01-23</td>\n",
              "      <td>Snohomish</td>\n",
              "      <td>Washington</td>\n",
              "      <td>1</td>\n",
              "      <td>0</td>\n",
              "    </tr>\n",
              "    <tr>\n",
              "      <th>3</th>\n",
              "      <td>2020-01-24</td>\n",
              "      <td>Cook</td>\n",
              "      <td>Illinois</td>\n",
              "      <td>1</td>\n",
              "      <td>0</td>\n",
              "    </tr>\n",
              "    <tr>\n",
              "      <th>4</th>\n",
              "      <td>2020-01-24</td>\n",
              "      <td>Snohomish</td>\n",
              "      <td>Washington</td>\n",
              "      <td>1</td>\n",
              "      <td>0</td>\n",
              "    </tr>\n",
              "    <tr>\n",
              "      <th>...</th>\n",
              "      <td>...</td>\n",
              "      <td>...</td>\n",
              "      <td>...</td>\n",
              "      <td>...</td>\n",
              "      <td>...</td>\n",
              "    </tr>\n",
              "    <tr>\n",
              "      <th>33246</th>\n",
              "      <td>2020-04-04</td>\n",
              "      <td>Sublette</td>\n",
              "      <td>Wyoming</td>\n",
              "      <td>1</td>\n",
              "      <td>0</td>\n",
              "    </tr>\n",
              "    <tr>\n",
              "      <th>33247</th>\n",
              "      <td>2020-04-04</td>\n",
              "      <td>Sweetwater</td>\n",
              "      <td>Wyoming</td>\n",
              "      <td>4</td>\n",
              "      <td>0</td>\n",
              "    </tr>\n",
              "    <tr>\n",
              "      <th>33248</th>\n",
              "      <td>2020-04-04</td>\n",
              "      <td>Teton</td>\n",
              "      <td>Wyoming</td>\n",
              "      <td>36</td>\n",
              "      <td>0</td>\n",
              "    </tr>\n",
              "    <tr>\n",
              "      <th>33249</th>\n",
              "      <td>2020-04-04</td>\n",
              "      <td>Uinta</td>\n",
              "      <td>Wyoming</td>\n",
              "      <td>2</td>\n",
              "      <td>0</td>\n",
              "    </tr>\n",
              "    <tr>\n",
              "      <th>33250</th>\n",
              "      <td>2020-04-04</td>\n",
              "      <td>Washakie</td>\n",
              "      <td>Wyoming</td>\n",
              "      <td>2</td>\n",
              "      <td>0</td>\n",
              "    </tr>\n",
              "  </tbody>\n",
              "</table>\n",
              "<p>33251 rows × 5 columns</p>\n",
              "</div>"
            ],
            "text/plain": [
              "             date      county       state  cases  deaths\n",
              "0      2020-01-21   Snohomish  Washington      1       0\n",
              "1      2020-01-22   Snohomish  Washington      1       0\n",
              "2      2020-01-23   Snohomish  Washington      1       0\n",
              "3      2020-01-24        Cook    Illinois      1       0\n",
              "4      2020-01-24   Snohomish  Washington      1       0\n",
              "...           ...         ...         ...    ...     ...\n",
              "33246  2020-04-04    Sublette     Wyoming      1       0\n",
              "33247  2020-04-04  Sweetwater     Wyoming      4       0\n",
              "33248  2020-04-04       Teton     Wyoming     36       0\n",
              "33249  2020-04-04       Uinta     Wyoming      2       0\n",
              "33250  2020-04-04    Washakie     Wyoming      2       0\n",
              "\n",
              "[33251 rows x 5 columns]"
            ]
          },
          "metadata": {
            "tags": []
          },
          "execution_count": 29
        }
      ]
    },
    {
      "cell_type": "code",
      "metadata": {
        "id": "VF-4BcJ1FwoO",
        "colab_type": "code",
        "outputId": "1cf6d4a0-08de-4fe3-d196-b59d9524fb62",
        "colab": {
          "base_uri": "https://localhost:8080/",
          "height": 34
        }
      },
      "source": [
        "#Here we are checking to see whether our dataframe contains any null values\n",
        "Counties2.isnull().values.any()"
      ],
      "execution_count": 30,
      "outputs": [
        {
          "output_type": "execute_result",
          "data": {
            "text/plain": [
              "False"
            ]
          },
          "metadata": {
            "tags": []
          },
          "execution_count": 30
        }
      ]
    },
    {
      "cell_type": "code",
      "metadata": {
        "colab_type": "code",
        "outputId": "8a5a75cb-796a-4568-c740-512c87ffdfe5",
        "id": "nlynZAdMICtb",
        "colab": {
          "base_uri": "https://localhost:8080/",
          "height": 747
        }
      },
      "source": [
        "#Rename Dataframe to not overwrite original\n",
        "#Execute code\n",
        "#Pick two columns\n",
        "Counties3=Counties2.plot.scatter(x='cases', y='state')\n",
        "\n",
        "plt.title('Scatter Plot')\n",
        "plt.xlabel('cases')\n",
        "plt.ylabel('deaths')\n",
        "plt.rcParams['figure.figsize']={18,12}\n",
        "plt.show"
      ],
      "execution_count": 39,
      "outputs": [
        {
          "output_type": "execute_result",
          "data": {
            "text/plain": [
              "<function matplotlib.pyplot.show>"
            ]
          },
          "metadata": {
            "tags": []
          },
          "execution_count": 39
        },
        {
          "output_type": "display_data",
          "data": {
            "image/png": "[encoded data removed]",
            "text/plain": [
              "<Figure size 1296x864 with 1 Axes>"
            ]
          },
          "metadata": {
            "tags": [],
            "needs_background": "light"
          }
        }
      ]
    }
  ]
}